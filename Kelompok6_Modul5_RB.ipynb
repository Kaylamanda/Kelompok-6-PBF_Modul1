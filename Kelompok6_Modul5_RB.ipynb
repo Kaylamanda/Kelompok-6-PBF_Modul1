{
  "nbformat": 4,
  "nbformat_minor": 0,
  "metadata": {
    "colab": {
      "provenance": []
    },
    "kernelspec": {
      "name": "python3",
      "display_name": "Python 3"
    },
    "language_info": {
      "name": "python"
    }
  },
  "cells": [
    {
      "cell_type": "code",
      "execution_count": 6,
      "metadata": {
        "colab": {
          "base_uri": "https://localhost:8080/"
        },
        "id": "sGyYq_h7eC7O",
        "outputId": "92946305-dd1a-47ab-90f0-edae2b64dd24"
      },
      "outputs": [
        {
          "output_type": "stream",
          "name": "stdout",
          "text": [
            "Selamat datang di permainan tebak angka!\n",
            "Tebak angka (1-100): 50\n",
            "Tebakan terlalu rendah!\n",
            "Tebak angka (1-100): 86\n",
            "Tebakan terlalu rendah!\n",
            "Tebak angka (1-100): 90\n",
            "Tebakan terlalu rendah!\n",
            "Tebak angka (1-100): 95\n",
            "Tebakan terlalu tinggi!\n",
            "Tebak angka (1-100): 93\n",
            "Tebakan terlalu tinggi!\n",
            "Tebak angka (1-100): 92\n",
            "Tebakan terlalu tinggi!\n",
            "Tebak angka (1-100): 91\n",
            "Selamat! Anda menebak dengan benar.\n",
            "Elapsed time for main: 27.94391918182373 seconds\n"
          ]
        }
      ],
      "source": [
        "import functools\n",
        "import time\n",
        "import random\n",
        "\n",
        "# Decorator untuk memoization\n",
        "def memoize(func):\n",
        "    cache = {}\n",
        "    @functools.wraps(func)\n",
        "    def wrapper(*args):\n",
        "        if args not in cache:\n",
        "            cache[args] = func(*args)\n",
        "        return cache[args]\n",
        "    return wrapper\n",
        "\n",
        "# Decorator untuk menampilkan pesan waktu\n",
        "def display_time(func):\n",
        "    @functools.wraps(func)\n",
        "    def wrapper(*args, **kwargs):\n",
        "        start_time = time.time()\n",
        "        result = func(*args, **kwargs)\n",
        "        end_time = time.time()\n",
        "        print(f\"Elapsed time for {func.__name__}: {end_time - start_time} seconds\")\n",
        "        return result\n",
        "    return wrapper\n",
        "\n",
        "# Mendefinisikan x sebagai bilangan random dari 1-100\n",
        "def x():\n",
        "  return random.randint(1, 100)\n",
        "\n",
        "# Fungsi permainan: tebak angka\n",
        "@memoize\n",
        "def tebak_angka(target):\n",
        "    guess = int(input(\"Tebak angka (1-100): \"))\n",
        "    if guess < target:\n",
        "        print(\"Tebakan terlalu rendah!\")\n",
        "        return tebak_angka(target)\n",
        "    elif guess > target:\n",
        "        print(\"Tebakan terlalu tinggi!\")\n",
        "        return tebak_angka(target)\n",
        "    else:\n",
        "        print(\"Selamat! Anda menebak dengan benar.\")\n",
        "\n",
        "# Main function\n",
        "@display_time\n",
        "def main():\n",
        "    print(\"Selamat datang di permainan tebak angka!\")\n",
        "    target = x()  # Angka yang harus ditebak\n",
        "    tebak_angka(target)\n",
        "\n",
        "# Jalankan permainan\n",
        "main()"
      ]
    }
  ]
}