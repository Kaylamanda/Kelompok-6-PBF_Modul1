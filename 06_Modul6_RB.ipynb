{
  "nbformat": 4,
  "nbformat_minor": 0,
  "metadata": {
    "colab": {
      "provenance": []
    },
    "kernelspec": {
      "name": "python3",
      "display_name": "Python 3"
    },
    "language_info": {
      "name": "python"
    }
  },
  "cells": [
    {
      "cell_type": "code",
      "execution_count": 2,
      "metadata": {
        "colab": {
          "base_uri": "https://localhost:8080/"
        },
        "id": "ktydA_BfJ217",
        "outputId": "d718b5cd-38da-4749-85c9-a7b2894d221e"
      },
      "outputs": [
        {
          "output_type": "stream",
          "name": "stdout",
          "text": [
            "[{'id': 1, 'amount': 1400000, 'currency': 'IDR'}, {'id': 2, 'amount': 700000, 'currency': 'IDR'}, {'id': 3, 'amount': 2800000, 'currency': 'IDR'}]\n"
          ]
        }
      ],
      "source": [
        "# Fungsi untuk mengkonversi jumlah transaksi ke mata uang lain\n",
        "def convert_currency(transaction, exchange_rate):\n",
        "    return {'id': transaction['id'], 'amount': transaction['amount'] * exchange_rate, 'currency': 'IDR'}\n",
        "\n",
        "# Daftar transaksi\n",
        "transactions = [\n",
        "    {'id': 1, 'amount': 100, 'currency': 'USD'},\n",
        "    {'id': 2, 'amount': 50, 'currency': 'USD'},\n",
        "    {'id': 3, 'amount': 200, 'currency': 'USD'}\n",
        "]\n",
        "\n",
        "# Kurs mata uang: USD ke IDR\n",
        "exchange_rate_usd_to_idr = 14000\n",
        "\n",
        "# Mengkonversi transaksi ke mata uang IDR\n",
        "transactions_idr = list(map(lambda transaction: convert_currency(transaction, exchange_rate_usd_to_idr), transactions))\n",
        "\n",
        "print(transactions_idr)"
      ]
    }
  ]
}