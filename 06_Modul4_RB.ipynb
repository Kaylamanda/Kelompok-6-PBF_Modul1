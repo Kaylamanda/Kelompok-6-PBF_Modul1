{
  "nbformat": 4,
  "nbformat_minor": 0,
  "metadata": {
    "colab": {
      "provenance": []
    },
    "kernelspec": {
      "name": "python3",
      "display_name": "Python 3"
    },
    "language_info": {
      "name": "python"
    }
  },
  "cells": [
    {
      "cell_type": "code",
      "source": [
        "\n",
        "#metode mix max scalling\n",
        "import pandas as pd\n",
        "\n",
        "def normalisasi_kolom(df, kolom):\n",
        "    # Fungsi closure untuk normalisasi\n",
        "    def normalisasi(x):\n",
        "        return (x - min_val) / (max_val - min_val)\n",
        "\n",
        "    # Mendapatkan nilai minimum dan maksimum kolom\n",
        "    min_val = df[kolom].min()\n",
        "    max_val = df[kolom].max()\n",
        "\n",
        "    # Menggunakan fungsi closure untuk menerapkan normalisasi pada kolom DataFrame\n",
        "    df[kolom] = df[kolom].apply(normalisasi)\n",
        "\n",
        "# Contoh DataFrame\n",
        "data = {\n",
        "    \"Nama\" : [\"Atira Nabila\", \"Sawitri\", \"Meliana Sabet Tambunan\", \"Desi Novria Siregar\", \"Handayani Simanjuntak\", \"Mardiana Pasaribu\", \"Yamolala Hulu\", \"David Ridwan Hakim\", \"Misael Oktavianda Harefa\", \"Muhammad Ali\"],\n",
        "    \"Pekerjaan Orang Tua\": [1, 2, 1, 1, 2, 1, 3, 2, 1, 1],\n",
        "    \"Status Kepemilikan Rumah\": [1, 1, 2, 2, 2, 1, 2, 1, 2, 2],\n",
        "    \"Penghasilan Orang Tua\": [2500000, 1800000, 2000000, 1800000, 2500000, 1800000, 5000000, 3000000, 1400000, 2000000]\n",
        "}\n",
        "df = pd.DataFrame(data)\n",
        "\n",
        "# Normalisasi kolom \"Pekerjaan Orang Tua\"\n",
        "normalisasi_kolom(df, \"Pekerjaan Orang Tua\")\n",
        "\n",
        "# Normalisasi kolom \"Status Kepemilikan Rumah\"\n",
        "normalisasi_kolom(df, \"Status Kepemilikan Rumah\")\n",
        "\n",
        "# Normalisasi kolom \"Penghasilan Orang Tua\"\n",
        "normalisasi_kolom(df, \"Penghasilan Orang Tua\")\n",
        "\n",
        "print(df)"
      ],
      "metadata": {
        "colab": {
          "base_uri": "https://localhost:8080/"
        },
        "id": "dhIjHTlf8C0z",
        "outputId": "aa92fcc5-48e8-4f73-f28b-a815063772ce"
      },
      "execution_count": 1,
      "outputs": [
        {
          "output_type": "stream",
          "name": "stdout",
          "text": [
            "                       Nama  Pekerjaan Orang Tua  Status Kepemilikan Rumah  \\\n",
            "0              Atira Nabila                  0.0                       0.0   \n",
            "1                   Sawitri                  0.5                       0.0   \n",
            "2    Meliana Sabet Tambunan                  0.0                       1.0   \n",
            "3       Desi Novria Siregar                  0.0                       1.0   \n",
            "4     Handayani Simanjuntak                  0.5                       1.0   \n",
            "5         Mardiana Pasaribu                  0.0                       0.0   \n",
            "6             Yamolala Hulu                  1.0                       1.0   \n",
            "7        David Ridwan Hakim                  0.5                       0.0   \n",
            "8  Misael Oktavianda Harefa                  0.0                       1.0   \n",
            "9              Muhammad Ali                  0.0                       1.0   \n",
            "\n",
            "   Penghasilan Orang Tua  \n",
            "0               0.305556  \n",
            "1               0.111111  \n",
            "2               0.166667  \n",
            "3               0.111111  \n",
            "4               0.305556  \n",
            "5               0.111111  \n",
            "6               1.000000  \n",
            "7               0.444444  \n",
            "8               0.000000  \n",
            "9               0.166667  \n"
          ]
        }
      ]
    }
  ]
}